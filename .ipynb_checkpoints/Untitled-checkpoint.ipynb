{
 "cells": [
  {
   "cell_type": "code",
   "execution_count": 4,
   "id": "e40dd070",
   "metadata": {},
   "outputs": [],
   "source": [
    "import pandas as pd\n",
    "\n",
    "data = pd.read_csv(\"CoinMarketCap.csv\")"
   ]
  },
  {
   "cell_type": "code",
   "execution_count": 5,
   "id": "662d40b8",
   "metadata": {},
   "outputs": [
    {
     "data": {
      "text/html": [
       "<div>\n",
       "<style scoped>\n",
       "    .dataframe tbody tr th:only-of-type {\n",
       "        vertical-align: middle;\n",
       "    }\n",
       "\n",
       "    .dataframe tbody tr th {\n",
       "        vertical-align: top;\n",
       "    }\n",
       "\n",
       "    .dataframe thead th {\n",
       "        text-align: right;\n",
       "    }\n",
       "</style>\n",
       "<table border=\"1\" class=\"dataframe\">\n",
       "  <thead>\n",
       "    <tr style=\"text-align: right;\">\n",
       "      <th></th>\n",
       "      <th>Unnamed: 0</th>\n",
       "      <th>24h_volume_usd</th>\n",
       "      <th>available_supply</th>\n",
       "      <th>id</th>\n",
       "      <th>last_updated</th>\n",
       "      <th>market_cap_usd</th>\n",
       "      <th>max_supply</th>\n",
       "      <th>name</th>\n",
       "      <th>percent_change_1h</th>\n",
       "      <th>percent_change_24h</th>\n",
       "      <th>percent_change_7d</th>\n",
       "      <th>price_btc</th>\n",
       "      <th>price_usd</th>\n",
       "      <th>rank</th>\n",
       "      <th>symbol</th>\n",
       "      <th>total_supply</th>\n",
       "    </tr>\n",
       "  </thead>\n",
       "  <tbody>\n",
       "    <tr>\n",
       "      <th>0</th>\n",
       "      <td>0</td>\n",
       "      <td>22081300000</td>\n",
       "      <td>16785225</td>\n",
       "      <td>bitcoin</td>\n",
       "      <td>1515230661</td>\n",
       "      <td>284909052105</td>\n",
       "      <td>2.100000e+07</td>\n",
       "      <td>Bitcoin</td>\n",
       "      <td>-0.42</td>\n",
       "      <td>5.76</td>\n",
       "      <td>26.04</td>\n",
       "      <td>1.000000</td>\n",
       "      <td>16973.800000</td>\n",
       "      <td>1</td>\n",
       "      <td>BTC</td>\n",
       "      <td>16785225</td>\n",
       "    </tr>\n",
       "    <tr>\n",
       "      <th>1</th>\n",
       "      <td>1</td>\n",
       "      <td>5221370000</td>\n",
       "      <td>38739144847</td>\n",
       "      <td>ripple</td>\n",
       "      <td>1515230641</td>\n",
       "      <td>119207709132</td>\n",
       "      <td>1.000000e+11</td>\n",
       "      <td>Ripple</td>\n",
       "      <td>-0.26</td>\n",
       "      <td>-9.23</td>\n",
       "      <td>24.15</td>\n",
       "      <td>0.000186</td>\n",
       "      <td>3.077190</td>\n",
       "      <td>2</td>\n",
       "      <td>XRP</td>\n",
       "      <td>99993093880</td>\n",
       "    </tr>\n",
       "    <tr>\n",
       "      <th>2</th>\n",
       "      <td>2</td>\n",
       "      <td>5705690000</td>\n",
       "      <td>96803840</td>\n",
       "      <td>ethereum</td>\n",
       "      <td>1515230649</td>\n",
       "      <td>100115499075</td>\n",
       "      <td>NaN</td>\n",
       "      <td>Ethereum</td>\n",
       "      <td>0.29</td>\n",
       "      <td>-1.04</td>\n",
       "      <td>45.01</td>\n",
       "      <td>0.062517</td>\n",
       "      <td>1034.210000</td>\n",
       "      <td>3</td>\n",
       "      <td>ETH</td>\n",
       "      <td>96803840</td>\n",
       "    </tr>\n",
       "    <tr>\n",
       "      <th>3</th>\n",
       "      <td>3</td>\n",
       "      <td>1569900000</td>\n",
       "      <td>16896225</td>\n",
       "      <td>bitcoin-cash</td>\n",
       "      <td>1515230652</td>\n",
       "      <td>44424061657</td>\n",
       "      <td>2.100000e+07</td>\n",
       "      <td>Bitcoin Cash</td>\n",
       "      <td>0.03</td>\n",
       "      <td>7.99</td>\n",
       "      <td>2.81</td>\n",
       "      <td>0.158934</td>\n",
       "      <td>2629.230000</td>\n",
       "      <td>4</td>\n",
       "      <td>BCH</td>\n",
       "      <td>16896225</td>\n",
       "    </tr>\n",
       "    <tr>\n",
       "      <th>4</th>\n",
       "      <td>4</td>\n",
       "      <td>428305000</td>\n",
       "      <td>25927070538</td>\n",
       "      <td>cardano</td>\n",
       "      <td>1515230654</td>\n",
       "      <td>25916647856</td>\n",
       "      <td>4.500000e+10</td>\n",
       "      <td>Cardano</td>\n",
       "      <td>0.39</td>\n",
       "      <td>-5.87</td>\n",
       "      <td>64.99</td>\n",
       "      <td>0.000060</td>\n",
       "      <td>0.999598</td>\n",
       "      <td>5</td>\n",
       "      <td>ADA</td>\n",
       "      <td>31112483745</td>\n",
       "    </tr>\n",
       "  </tbody>\n",
       "</table>\n",
       "</div>"
      ],
      "text/plain": [
       "   Unnamed: 0  24h_volume_usd  available_supply            id  last_updated  \\\n",
       "0           0     22081300000          16785225       bitcoin    1515230661   \n",
       "1           1      5221370000       38739144847        ripple    1515230641   \n",
       "2           2      5705690000          96803840      ethereum    1515230649   \n",
       "3           3      1569900000          16896225  bitcoin-cash    1515230652   \n",
       "4           4       428305000       25927070538       cardano    1515230654   \n",
       "\n",
       "   market_cap_usd    max_supply          name  percent_change_1h  \\\n",
       "0    284909052105  2.100000e+07       Bitcoin              -0.42   \n",
       "1    119207709132  1.000000e+11        Ripple              -0.26   \n",
       "2    100115499075           NaN      Ethereum               0.29   \n",
       "3     44424061657  2.100000e+07  Bitcoin Cash               0.03   \n",
       "4     25916647856  4.500000e+10       Cardano               0.39   \n",
       "\n",
       "   percent_change_24h  percent_change_7d  price_btc     price_usd  rank  \\\n",
       "0                5.76              26.04   1.000000  16973.800000     1   \n",
       "1               -9.23              24.15   0.000186      3.077190     2   \n",
       "2               -1.04              45.01   0.062517   1034.210000     3   \n",
       "3                7.99               2.81   0.158934   2629.230000     4   \n",
       "4               -5.87              64.99   0.000060      0.999598     5   \n",
       "\n",
       "  symbol  total_supply  \n",
       "0    BTC      16785225  \n",
       "1    XRP   99993093880  \n",
       "2    ETH      96803840  \n",
       "3    BCH      16896225  \n",
       "4    ADA   31112483745  "
      ]
     },
     "execution_count": 5,
     "metadata": {},
     "output_type": "execute_result"
    }
   ],
   "source": [
    "data.head()\n"
   ]
  },
  {
   "cell_type": "code",
   "execution_count": 9,
   "id": "ca97a77b",
   "metadata": {},
   "outputs": [
    {
     "name": "stdout",
     "output_type": "stream",
     "text": [
      "<class 'pandas.core.frame.DataFrame'>\n",
      "RangeIndex: 100 entries, 0 to 99\n",
      "Data columns (total 16 columns):\n",
      " #   Column              Non-Null Count  Dtype  \n",
      "---  ------              --------------  -----  \n",
      " 0   Unnamed: 0          100 non-null    int64  \n",
      " 1   24h_volume_usd      100 non-null    int64  \n",
      " 2   available_supply    100 non-null    int64  \n",
      " 3   id                  100 non-null    object \n",
      " 4   last_updated        100 non-null    int64  \n",
      " 5   market_cap_usd      100 non-null    int64  \n",
      " 6   max_supply          27 non-null     float64\n",
      " 7   name                100 non-null    object \n",
      " 8   percent_change_1h   100 non-null    float64\n",
      " 9   percent_change_24h  100 non-null    float64\n",
      " 10  percent_change_7d   100 non-null    float64\n",
      " 11  price_btc           100 non-null    float64\n",
      " 12  price_usd           100 non-null    float64\n",
      " 13  rank                100 non-null    int64  \n",
      " 14  symbol              100 non-null    object \n",
      " 15  total_supply        100 non-null    int64  \n",
      "dtypes: float64(6), int64(7), object(3)\n",
      "memory usage: 12.6+ KB\n"
     ]
    }
   ],
   "source": [
    "data.info()"
   ]
  },
  {
   "cell_type": "code",
   "execution_count": 11,
   "id": "d43c6c86",
   "metadata": {},
   "outputs": [
    {
     "data": {
      "text/plain": [
       "(100, 16)"
      ]
     },
     "execution_count": 11,
     "metadata": {},
     "output_type": "execute_result"
    }
   ],
   "source": [
    "data.shape"
   ]
  },
  {
   "cell_type": "code",
   "execution_count": 14,
   "id": "5db6298b",
   "metadata": {},
   "outputs": [
    {
     "data": {
      "text/plain": [
       "RangeIndex(start=0, stop=100, step=1)"
      ]
     },
     "execution_count": 14,
     "metadata": {},
     "output_type": "execute_result"
    }
   ],
   "source": [
    "data.index"
   ]
  },
  {
   "cell_type": "code",
   "execution_count": null,
   "id": "3b12926a",
   "metadata": {},
   "outputs": [],
   "source": []
  }
 ],
 "metadata": {
  "kernelspec": {
   "display_name": "Python 3 (ipykernel)",
   "language": "python",
   "name": "python3"
  },
  "language_info": {
   "codemirror_mode": {
    "name": "ipython",
    "version": 3
   },
   "file_extension": ".py",
   "mimetype": "text/x-python",
   "name": "python",
   "nbconvert_exporter": "python",
   "pygments_lexer": "ipython3",
   "version": "3.9.7"
  }
 },
 "nbformat": 4,
 "nbformat_minor": 5
}
