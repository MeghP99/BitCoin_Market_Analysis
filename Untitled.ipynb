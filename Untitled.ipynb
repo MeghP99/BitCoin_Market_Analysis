{
 "cells": [
  {
   "cell_type": "markdown",
   "id": "e722419a",
   "metadata": {},
   "source": [
    "<font size=\"6\" color=\"Red\">BITCOIN MARKET CAPITALIZATION</font>"
   ]
  },
  {
   "cell_type": "markdown",
   "id": "3557cabe",
   "metadata": {},
   "source": [
    "Importing Dataset"
   ]
  },
  {
   "cell_type": "code",
   "execution_count": 3,
   "id": "e40dd070",
   "metadata": {},
   "outputs": [],
   "source": [
    "import pandas as pd\n",
    "\n",
    "data = pd.read_csv(\"CoinMarketCap_2017.csv\")"
   ]
  },
  {
   "cell_type": "markdown",
   "id": "c7ee3929",
   "metadata": {},
   "source": [
    "Checking Dataset"
   ]
  },
  {
   "cell_type": "code",
   "execution_count": 4,
   "id": "662d40b8",
   "metadata": {},
   "outputs": [
    {
     "data": {
      "text/html": [
       "<div>\n",
       "<style scoped>\n",
       "    .dataframe tbody tr th:only-of-type {\n",
       "        vertical-align: middle;\n",
       "    }\n",
       "\n",
       "    .dataframe tbody tr th {\n",
       "        vertical-align: top;\n",
       "    }\n",
       "\n",
       "    .dataframe thead th {\n",
       "        text-align: right;\n",
       "    }\n",
       "</style>\n",
       "<table border=\"1\" class=\"dataframe\">\n",
       "  <thead>\n",
       "    <tr style=\"text-align: right;\">\n",
       "      <th></th>\n",
       "      <th>Unnamed: 0</th>\n",
       "      <th>24h_volume_usd</th>\n",
       "      <th>available_supply</th>\n",
       "      <th>id</th>\n",
       "      <th>last_updated</th>\n",
       "      <th>market_cap_usd</th>\n",
       "      <th>max_supply</th>\n",
       "      <th>name</th>\n",
       "      <th>percent_change_1h</th>\n",
       "      <th>percent_change_24h</th>\n",
       "      <th>percent_change_7d</th>\n",
       "      <th>price_btc</th>\n",
       "      <th>price_usd</th>\n",
       "      <th>rank</th>\n",
       "      <th>symbol</th>\n",
       "      <th>total_supply</th>\n",
       "    </tr>\n",
       "  </thead>\n",
       "  <tbody>\n",
       "    <tr>\n",
       "      <th>0</th>\n",
       "      <td>0</td>\n",
       "      <td>9.007640e+09</td>\n",
       "      <td>1.672352e+07</td>\n",
       "      <td>bitcoin</td>\n",
       "      <td>1512549554</td>\n",
       "      <td>2.130493e+11</td>\n",
       "      <td>2.100000e+07</td>\n",
       "      <td>Bitcoin</td>\n",
       "      <td>0.12</td>\n",
       "      <td>7.33</td>\n",
       "      <td>17.45</td>\n",
       "      <td>1.000000e+00</td>\n",
       "      <td>12739.500000</td>\n",
       "      <td>1</td>\n",
       "      <td>BTC</td>\n",
       "      <td>1.672352e+07</td>\n",
       "    </tr>\n",
       "    <tr>\n",
       "      <th>1</th>\n",
       "      <td>1</td>\n",
       "      <td>1.551330e+09</td>\n",
       "      <td>9.616537e+07</td>\n",
       "      <td>ethereum</td>\n",
       "      <td>1512549553</td>\n",
       "      <td>4.352945e+10</td>\n",
       "      <td>NaN</td>\n",
       "      <td>Ethereum</td>\n",
       "      <td>-0.18</td>\n",
       "      <td>-3.93</td>\n",
       "      <td>-7.33</td>\n",
       "      <td>3.617670e-02</td>\n",
       "      <td>452.652000</td>\n",
       "      <td>2</td>\n",
       "      <td>ETH</td>\n",
       "      <td>9.616537e+07</td>\n",
       "    </tr>\n",
       "    <tr>\n",
       "      <th>2</th>\n",
       "      <td>2</td>\n",
       "      <td>1.111350e+09</td>\n",
       "      <td>1.684044e+07</td>\n",
       "      <td>bitcoin-cash</td>\n",
       "      <td>1512549578</td>\n",
       "      <td>2.529585e+10</td>\n",
       "      <td>2.100000e+07</td>\n",
       "      <td>Bitcoin Cash</td>\n",
       "      <td>1.65</td>\n",
       "      <td>-5.51</td>\n",
       "      <td>-4.75</td>\n",
       "      <td>1.200500e-01</td>\n",
       "      <td>1502.090000</td>\n",
       "      <td>3</td>\n",
       "      <td>BCH</td>\n",
       "      <td>1.684044e+07</td>\n",
       "    </tr>\n",
       "    <tr>\n",
       "      <th>3</th>\n",
       "      <td>3</td>\n",
       "      <td>2.936090e+09</td>\n",
       "      <td>2.779530e+09</td>\n",
       "      <td>iota</td>\n",
       "      <td>1512549571</td>\n",
       "      <td>1.475225e+10</td>\n",
       "      <td>2.779530e+09</td>\n",
       "      <td>IOTA</td>\n",
       "      <td>-2.38</td>\n",
       "      <td>83.35</td>\n",
       "      <td>255.82</td>\n",
       "      <td>4.241800e-04</td>\n",
       "      <td>5.307460</td>\n",
       "      <td>4</td>\n",
       "      <td>MIOTA</td>\n",
       "      <td>2.779530e+09</td>\n",
       "    </tr>\n",
       "    <tr>\n",
       "      <th>4</th>\n",
       "      <td>4</td>\n",
       "      <td>2.315050e+08</td>\n",
       "      <td>3.873915e+10</td>\n",
       "      <td>ripple</td>\n",
       "      <td>1512549541</td>\n",
       "      <td>9.365343e+09</td>\n",
       "      <td>1.000000e+11</td>\n",
       "      <td>Ripple</td>\n",
       "      <td>0.56</td>\n",
       "      <td>-3.70</td>\n",
       "      <td>-14.79</td>\n",
       "      <td>1.932000e-05</td>\n",
       "      <td>0.241754</td>\n",
       "      <td>5</td>\n",
       "      <td>XRP</td>\n",
       "      <td>9.999309e+10</td>\n",
       "    </tr>\n",
       "    <tr>\n",
       "      <th>...</th>\n",
       "      <td>...</td>\n",
       "      <td>...</td>\n",
       "      <td>...</td>\n",
       "      <td>...</td>\n",
       "      <td>...</td>\n",
       "      <td>...</td>\n",
       "      <td>...</td>\n",
       "      <td>...</td>\n",
       "      <td>...</td>\n",
       "      <td>...</td>\n",
       "      <td>...</td>\n",
       "      <td>...</td>\n",
       "      <td>...</td>\n",
       "      <td>...</td>\n",
       "      <td>...</td>\n",
       "      <td>...</td>\n",
       "    </tr>\n",
       "    <tr>\n",
       "      <th>1311</th>\n",
       "      <td>1311</td>\n",
       "      <td>NaN</td>\n",
       "      <td>NaN</td>\n",
       "      <td>safecoin</td>\n",
       "      <td>1512494057</td>\n",
       "      <td>NaN</td>\n",
       "      <td>NaN</td>\n",
       "      <td>SafeCoin</td>\n",
       "      <td>NaN</td>\n",
       "      <td>-1.12</td>\n",
       "      <td>9.27</td>\n",
       "      <td>1.000000e-08</td>\n",
       "      <td>0.000116</td>\n",
       "      <td>1312</td>\n",
       "      <td>SFE</td>\n",
       "      <td>NaN</td>\n",
       "    </tr>\n",
       "    <tr>\n",
       "      <th>1312</th>\n",
       "      <td>1312</td>\n",
       "      <td>NaN</td>\n",
       "      <td>NaN</td>\n",
       "      <td>pokecoin</td>\n",
       "      <td>1512499760</td>\n",
       "      <td>NaN</td>\n",
       "      <td>NaN</td>\n",
       "      <td>PokeCoin</td>\n",
       "      <td>NaN</td>\n",
       "      <td>-0.43</td>\n",
       "      <td>26.93</td>\n",
       "      <td>2.000000e-08</td>\n",
       "      <td>0.000234</td>\n",
       "      <td>1313</td>\n",
       "      <td>POKE</td>\n",
       "      <td>NaN</td>\n",
       "    </tr>\n",
       "    <tr>\n",
       "      <th>1313</th>\n",
       "      <td>1313</td>\n",
       "      <td>NaN</td>\n",
       "      <td>NaN</td>\n",
       "      <td>sportscoin</td>\n",
       "      <td>1512274759</td>\n",
       "      <td>NaN</td>\n",
       "      <td>NaN</td>\n",
       "      <td>SportsCoin</td>\n",
       "      <td>NaN</td>\n",
       "      <td>NaN</td>\n",
       "      <td>10.97</td>\n",
       "      <td>1.100000e-07</td>\n",
       "      <td>0.001216</td>\n",
       "      <td>1314</td>\n",
       "      <td>SPORT</td>\n",
       "      <td>1.980000e+07</td>\n",
       "    </tr>\n",
       "    <tr>\n",
       "      <th>1314</th>\n",
       "      <td>1314</td>\n",
       "      <td>NaN</td>\n",
       "      <td>NaN</td>\n",
       "      <td>omicron</td>\n",
       "      <td>1512525562</td>\n",
       "      <td>NaN</td>\n",
       "      <td>NaN</td>\n",
       "      <td>Omicron</td>\n",
       "      <td>NaN</td>\n",
       "      <td>0.89</td>\n",
       "      <td>8.59</td>\n",
       "      <td>1.131000e-05</td>\n",
       "      <td>0.134319</td>\n",
       "      <td>1315</td>\n",
       "      <td>OMC</td>\n",
       "      <td>1.014004e+07</td>\n",
       "    </tr>\n",
       "    <tr>\n",
       "      <th>1315</th>\n",
       "      <td>1315</td>\n",
       "      <td>NaN</td>\n",
       "      <td>NaN</td>\n",
       "      <td>pinkdog</td>\n",
       "      <td>1512538164</td>\n",
       "      <td>NaN</td>\n",
       "      <td>NaN</td>\n",
       "      <td>PinkDog</td>\n",
       "      <td>NaN</td>\n",
       "      <td>3.71</td>\n",
       "      <td>-42.70</td>\n",
       "      <td>1.000000e-08</td>\n",
       "      <td>0.000122</td>\n",
       "      <td>1316</td>\n",
       "      <td>PDG</td>\n",
       "      <td>NaN</td>\n",
       "    </tr>\n",
       "  </tbody>\n",
       "</table>\n",
       "<p>1316 rows × 16 columns</p>\n",
       "</div>"
      ],
      "text/plain": [
       "      Unnamed: 0  24h_volume_usd  available_supply            id  \\\n",
       "0              0    9.007640e+09      1.672352e+07       bitcoin   \n",
       "1              1    1.551330e+09      9.616537e+07      ethereum   \n",
       "2              2    1.111350e+09      1.684044e+07  bitcoin-cash   \n",
       "3              3    2.936090e+09      2.779530e+09          iota   \n",
       "4              4    2.315050e+08      3.873915e+10        ripple   \n",
       "...          ...             ...               ...           ...   \n",
       "1311        1311             NaN               NaN      safecoin   \n",
       "1312        1312             NaN               NaN      pokecoin   \n",
       "1313        1313             NaN               NaN    sportscoin   \n",
       "1314        1314             NaN               NaN       omicron   \n",
       "1315        1315             NaN               NaN       pinkdog   \n",
       "\n",
       "      last_updated  market_cap_usd    max_supply          name  \\\n",
       "0       1512549554    2.130493e+11  2.100000e+07       Bitcoin   \n",
       "1       1512549553    4.352945e+10           NaN      Ethereum   \n",
       "2       1512549578    2.529585e+10  2.100000e+07  Bitcoin Cash   \n",
       "3       1512549571    1.475225e+10  2.779530e+09          IOTA   \n",
       "4       1512549541    9.365343e+09  1.000000e+11        Ripple   \n",
       "...            ...             ...           ...           ...   \n",
       "1311    1512494057             NaN           NaN      SafeCoin   \n",
       "1312    1512499760             NaN           NaN      PokeCoin   \n",
       "1313    1512274759             NaN           NaN    SportsCoin   \n",
       "1314    1512525562             NaN           NaN       Omicron   \n",
       "1315    1512538164             NaN           NaN       PinkDog   \n",
       "\n",
       "      percent_change_1h  percent_change_24h  percent_change_7d     price_btc  \\\n",
       "0                  0.12                7.33              17.45  1.000000e+00   \n",
       "1                 -0.18               -3.93              -7.33  3.617670e-02   \n",
       "2                  1.65               -5.51              -4.75  1.200500e-01   \n",
       "3                 -2.38               83.35             255.82  4.241800e-04   \n",
       "4                  0.56               -3.70             -14.79  1.932000e-05   \n",
       "...                 ...                 ...                ...           ...   \n",
       "1311                NaN               -1.12               9.27  1.000000e-08   \n",
       "1312                NaN               -0.43              26.93  2.000000e-08   \n",
       "1313                NaN                 NaN              10.97  1.100000e-07   \n",
       "1314                NaN                0.89               8.59  1.131000e-05   \n",
       "1315                NaN                3.71             -42.70  1.000000e-08   \n",
       "\n",
       "         price_usd  rank symbol  total_supply  \n",
       "0     12739.500000     1    BTC  1.672352e+07  \n",
       "1       452.652000     2    ETH  9.616537e+07  \n",
       "2      1502.090000     3    BCH  1.684044e+07  \n",
       "3         5.307460     4  MIOTA  2.779530e+09  \n",
       "4         0.241754     5    XRP  9.999309e+10  \n",
       "...            ...   ...    ...           ...  \n",
       "1311      0.000116  1312    SFE           NaN  \n",
       "1312      0.000234  1313   POKE           NaN  \n",
       "1313      0.001216  1314  SPORT  1.980000e+07  \n",
       "1314      0.134319  1315    OMC  1.014004e+07  \n",
       "1315      0.000122  1316    PDG           NaN  \n",
       "\n",
       "[1316 rows x 16 columns]"
      ]
     },
     "execution_count": 4,
     "metadata": {},
     "output_type": "execute_result"
    }
   ],
   "source": [
    "\n",
    "data.head(-10)\n"
   ]
  },
  {
   "cell_type": "code",
   "execution_count": 5,
   "id": "ca97a77b",
   "metadata": {},
   "outputs": [
    {
     "name": "stdout",
     "output_type": "stream",
     "text": [
      "<class 'pandas.core.frame.DataFrame'>\n",
      "RangeIndex: 1326 entries, 0 to 1325\n",
      "Data columns (total 16 columns):\n",
      " #   Column              Non-Null Count  Dtype  \n",
      "---  ------              --------------  -----  \n",
      " 0   Unnamed: 0          1326 non-null   int64  \n",
      " 1   24h_volume_usd      1270 non-null   float64\n",
      " 2   available_supply    1031 non-null   float64\n",
      " 3   id                  1326 non-null   object \n",
      " 4   last_updated        1326 non-null   int64  \n",
      " 5   market_cap_usd      1031 non-null   float64\n",
      " 6   max_supply          215 non-null    float64\n",
      " 7   name                1326 non-null   object \n",
      " 8   percent_change_1h   1273 non-null   float64\n",
      " 9   percent_change_24h  1270 non-null   float64\n",
      " 10  percent_change_7d   1283 non-null   float64\n",
      " 11  price_btc           1326 non-null   float64\n",
      " 12  price_usd           1326 non-null   float64\n",
      " 13  rank                1326 non-null   int64  \n",
      " 14  symbol              1326 non-null   object \n",
      " 15  total_supply        1211 non-null   float64\n",
      "dtypes: float64(10), int64(3), object(3)\n",
      "memory usage: 165.9+ KB\n"
     ]
    }
   ],
   "source": [
    "data.info()"
   ]
  },
  {
   "cell_type": "code",
   "execution_count": 6,
   "id": "d43c6c86",
   "metadata": {},
   "outputs": [
    {
     "data": {
      "text/plain": [
       "(1326, 16)"
      ]
     },
     "execution_count": 6,
     "metadata": {},
     "output_type": "execute_result"
    }
   ],
   "source": [
    "data.shape"
   ]
  },
  {
   "cell_type": "code",
   "execution_count": 7,
   "id": "5db6298b",
   "metadata": {},
   "outputs": [
    {
     "data": {
      "text/plain": [
       "RangeIndex(start=0, stop=1326, step=1)"
      ]
     },
     "execution_count": 7,
     "metadata": {},
     "output_type": "execute_result"
    }
   ],
   "source": [
    "data.index"
   ]
  },
  {
   "cell_type": "markdown",
   "id": "99a6039d",
   "metadata": {},
   "source": [
    "Importing And Cleaning marketcap dataset"
   ]
  },
  {
   "cell_type": "code",
   "execution_count": 8,
   "id": "46f5b555",
   "metadata": {},
   "outputs": [],
   "source": [
    "marketcap = data[[\"id\", \"market_cap_usd\"]]\n"
   ]
  },
  {
   "cell_type": "code",
   "execution_count": 9,
   "id": "dc3bc905",
   "metadata": {},
   "outputs": [
    {
     "name": "stdout",
     "output_type": "stream",
     "text": [
      "<class 'pandas.core.frame.DataFrame'>\n",
      "RangeIndex: 1326 entries, 0 to 1325\n",
      "Data columns (total 2 columns):\n",
      " #   Column          Non-Null Count  Dtype  \n",
      "---  ------          --------------  -----  \n",
      " 0   id              1326 non-null   object \n",
      " 1   market_cap_usd  1031 non-null   float64\n",
      "dtypes: float64(1), object(1)\n",
      "memory usage: 20.8+ KB\n"
     ]
    }
   ],
   "source": [
    "marketcap.info()"
   ]
  },
  {
   "cell_type": "code",
   "execution_count": 10,
   "id": "8cf4e06e",
   "metadata": {},
   "outputs": [
    {
     "name": "stdout",
     "output_type": "stream",
     "text": [
      "<class 'pandas.core.frame.DataFrame'>\n",
      "Int64Index: 1031 entries, 0 to 1030\n",
      "Data columns (total 2 columns):\n",
      " #   Column          Non-Null Count  Dtype  \n",
      "---  ------          --------------  -----  \n",
      " 0   id              1031 non-null   object \n",
      " 1   market_cap_usd  1031 non-null   float64\n",
      "dtypes: float64(1), object(1)\n",
      "memory usage: 24.2+ KB\n"
     ]
    }
   ],
   "source": [
    "cleaned_marketcap = marketcap.query('market_cap_usd > 0')\n",
    "cleaned_marketcap.info()"
   ]
  },
  {
   "cell_type": "code",
   "execution_count": 11,
   "id": "8c741210",
   "metadata": {},
   "outputs": [],
   "source": [
    "cleaned_marketcap.index = cleaned_marketcap.index + 1\n",
    "\n",
    "cleaned_marketcap.to_csv('cleaned_marketcap.csv')"
   ]
  },
  {
   "cell_type": "markdown",
   "id": "36bd7113",
   "metadata": {},
   "source": [
    "Graph 1-> Top 10 Performing Coins"
   ]
  },
  {
   "cell_type": "code",
   "execution_count": 36,
   "id": "1f24c70a",
   "metadata": {},
   "outputs": [],
   "source": [
    "#Selecting top 10 coins by Market Cap\n",
    "top10coins = cleaned_marketcap.sort_values(by= \"market_cap_usd\", ascending= False ).head(10)\n",
    "\n",
    "#Setting the index\n",
    "Capitalization = top10coins.set_index(top10coins.id)\n",
    "\n",
    "# Calculating market cap percentage\n",
    "Capitalization = Capitalization.assign(market_cap_percentage = \n",
    "                     lambda x :(x.market_cap_usd / data.market_cap_usd.sum())*100 )\n",
    "\n",
    "Capitalization.to_csv('Top10_Coins_g1.csv')"
   ]
  },
  {
   "cell_type": "markdown",
   "id": "0b9735d7",
   "metadata": {},
   "source": [
    "Exploring volatality of coins:\n",
    "\n",
    "Graph 2-> Top 10 gainers and Top 10 losers"
   ]
  },
  {
   "cell_type": "code",
   "execution_count": 37,
   "id": "581c87c8",
   "metadata": {},
   "outputs": [
    {
     "name": "stdout",
     "output_type": "stream",
     "text": [
      "Least volatile in 24 hrs:\n",
      "               percent_change_24h  percent_change_7d\n",
      "id                                                  \n",
      "flappycoin                 -95.85             -96.61\n",
      "credence-coin              -94.22             -95.31\n",
      "coupecoin                  -93.93             -61.24\n",
      "tyrocoin                   -79.02             -87.43\n",
      "petrodollar                -76.55             542.96\n",
      "\n",
      "\n",
      "Least volatile in 7 days\n",
      "               percent_change_24h  percent_change_7d\n",
      "id                                                  \n",
      "royalties                   -9.06             -99.59\n",
      "flappycoin                 -95.85             -96.61\n",
      "credence-coin              -94.22             -95.31\n",
      "cagecoin                   -36.26             -92.68\n",
      "tyrocoin                   -79.02             -87.43\n"
     ]
    }
   ],
   "source": [
    "vol = data[['id','percent_change_24h','percent_change_7d']]\n",
    "\n",
    "#Setting the index to 'id' and dropping all NaN rows\n",
    "vol = vol.set_index(['id']).dropna()\n",
    "\n",
    "# Sorting the DataFrame by percent_change_24h in ascending order\n",
    "vol_least = vol.sort_values(by=['percent_change_24h'])\n",
    "\n",
    "# Sorting the DataFrame by percent_change_7d in ascending order\n",
    "vol1_least = vol.sort_values(by=['percent_change_7d'])\n",
    "\n",
    "# Checking the first few rows\n",
    "print(\"Least volatile in 24 hrs:\")\n",
    "print(vol_least.head())\n",
    "print(\"\\n\")\n",
    "\n",
    "print(\"Least volatile in 7 days\")\n",
    "print(vol1_least.head())\n",
    "\n",
    "vol_least.to_csv('Volatality_24h_g2.csv')\n",
    "vol1_least.to_csv('Volatality_week_g2.csv')\n"
   ]
  },
  {
   "cell_type": "markdown",
   "id": "cd0b0f64",
   "metadata": {},
   "source": [
    "Lets see which coins has market cap bigger than 5 billion"
   ]
  },
  {
   "cell_type": "code",
   "execution_count": 39,
   "id": "682c94b1",
   "metadata": {},
   "outputs": [
    {
     "data": {
      "text/html": [
       "<div>\n",
       "<style scoped>\n",
       "    .dataframe tbody tr th:only-of-type {\n",
       "        vertical-align: middle;\n",
       "    }\n",
       "\n",
       "    .dataframe tbody tr th {\n",
       "        vertical-align: top;\n",
       "    }\n",
       "\n",
       "    .dataframe thead th {\n",
       "        text-align: right;\n",
       "    }\n",
       "</style>\n",
       "<table border=\"1\" class=\"dataframe\">\n",
       "  <thead>\n",
       "    <tr style=\"text-align: right;\">\n",
       "      <th></th>\n",
       "      <th>id</th>\n",
       "      <th>market_cap_usd</th>\n",
       "    </tr>\n",
       "  </thead>\n",
       "  <tbody>\n",
       "    <tr>\n",
       "      <th>1</th>\n",
       "      <td>bitcoin</td>\n",
       "      <td>2.130493e+11</td>\n",
       "    </tr>\n",
       "    <tr>\n",
       "      <th>2</th>\n",
       "      <td>ethereum</td>\n",
       "      <td>4.352945e+10</td>\n",
       "    </tr>\n",
       "    <tr>\n",
       "      <th>3</th>\n",
       "      <td>bitcoin-cash</td>\n",
       "      <td>2.529585e+10</td>\n",
       "    </tr>\n",
       "    <tr>\n",
       "      <th>4</th>\n",
       "      <td>iota</td>\n",
       "      <td>1.475225e+10</td>\n",
       "    </tr>\n",
       "    <tr>\n",
       "      <th>5</th>\n",
       "      <td>ripple</td>\n",
       "      <td>9.365343e+09</td>\n",
       "    </tr>\n",
       "    <tr>\n",
       "      <th>6</th>\n",
       "      <td>dash</td>\n",
       "      <td>5.794076e+09</td>\n",
       "    </tr>\n",
       "    <tr>\n",
       "      <th>7</th>\n",
       "      <td>litecoin</td>\n",
       "      <td>5.634498e+09</td>\n",
       "    </tr>\n",
       "  </tbody>\n",
       "</table>\n",
       "</div>"
      ],
      "text/plain": [
       "             id  market_cap_usd\n",
       "1       bitcoin    2.130493e+11\n",
       "2      ethereum    4.352945e+10\n",
       "3  bitcoin-cash    2.529585e+10\n",
       "4          iota    1.475225e+10\n",
       "5        ripple    9.365343e+09\n",
       "6          dash    5.794076e+09\n",
       "7      litecoin    5.634498e+09"
      ]
     },
     "execution_count": 39,
     "metadata": {},
     "output_type": "execute_result"
    }
   ],
   "source": [
    "# Selecting coins bigger than 5 billion \n",
    "bigcoins = cleaned_marketcap.query('market_cap_usd > 5e9')\n",
    "\n",
    "# Printing out largecaps\n",
    "bigcoins"
   ]
  },
  {
   "cell_type": "markdown",
   "id": "3f14bce1",
   "metadata": {},
   "source": [
    "How many coins are in golden league, big league, mid league and brozne league"
   ]
  },
  {
   "cell_type": "code",
   "execution_count": 44,
   "id": "ad72eb27",
   "metadata": {},
   "outputs": [],
   "source": [
    "golden_league = cleaned_marketcap.query('market_cap_usd > 5e9')\n",
    "big_league = cleaned_marketcap.query('market_cap_usd > 600e6 and market_cap_usd < 5e9')\n",
    "mid_league = cleaned_marketcap.query('market_cap_usd > 100e6 and market_cap_usd < 600e6')\n",
    "brozne_league = cleaned_marketcap.query('market_cap_usd<100e6')\n",
    "\n",
    "golden_league.to_csv('Coins_5billion.csv')\n",
    "big_league.to_csv('Coins_between_600mil_5bill.csv')\n",
    "mid_league.to_csv('Coins_between_100mil_600mill.csv')\n",
    "brozne_league.to_csv('Coins_100million.csv')\n",
    "\n"
   ]
  }
 ],
 "metadata": {
  "kernelspec": {
   "display_name": "Python 3.9.7 ('base')",
   "language": "python",
   "name": "python3"
  },
  "language_info": {
   "codemirror_mode": {
    "name": "ipython",
    "version": 3
   },
   "file_extension": ".py",
   "mimetype": "text/x-python",
   "name": "python",
   "nbconvert_exporter": "python",
   "pygments_lexer": "ipython3",
   "version": "3.9.7"
  },
  "vscode": {
   "interpreter": {
    "hash": "ad2bdc8ecc057115af97d19610ffacc2b4e99fae6737bb82f5d7fb13d2f2c186"
   }
  }
 },
 "nbformat": 4,
 "nbformat_minor": 5
}
